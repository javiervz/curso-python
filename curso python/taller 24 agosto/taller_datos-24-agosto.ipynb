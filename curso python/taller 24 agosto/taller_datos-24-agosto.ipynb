{
 "cells": [
  {
   "cell_type": "markdown",
   "metadata": {},
   "source": [
    "# Taller 24 de agosto 2020"
   ]
  },
  {
   "cell_type": "markdown",
   "metadata": {},
   "source": [
    "#### Un pequeño recuerdo del lunes 17 de agosto!"
   ]
  },
  {
   "cell_type": "code",
   "execution_count": 1,
   "metadata": {},
   "outputs": [],
   "source": [
    "## usamos pandas para leer .csv\n",
    "\n",
    "import pandas as pd "
   ]
  },
  {
   "cell_type": "code",
   "execution_count": 2,
   "metadata": {},
   "outputs": [],
   "source": [
    "## leemos los datos de rasgos \n",
    "\n",
    "datos_lenguas = pd.read_csv('TablaDominios.csv',sep=';')"
   ]
  },
  {
   "cell_type": "code",
   "execution_count": 3,
   "metadata": {},
   "outputs": [
    {
     "data": {
      "text/html": [
       "<div>\n",
       "<style scoped>\n",
       "    .dataframe tbody tr th:only-of-type {\n",
       "        vertical-align: middle;\n",
       "    }\n",
       "\n",
       "    .dataframe tbody tr th {\n",
       "        vertical-align: top;\n",
       "    }\n",
       "\n",
       "    .dataframe thead th {\n",
       "        text-align: right;\n",
       "    }\n",
       "</style>\n",
       "<table border=\"1\" class=\"dataframe\">\n",
       "  <thead>\n",
       "    <tr style=\"text-align: right;\">\n",
       "      <th></th>\n",
       "      <th>Correlativo</th>\n",
       "      <th>Dominio</th>\n",
       "      <th>Lengua</th>\n",
       "      <th>TipoRasgo</th>\n",
       "      <th>ValorRasgo</th>\n",
       "    </tr>\n",
       "  </thead>\n",
       "  <tbody>\n",
       "    <tr>\n",
       "      <th>0</th>\n",
       "      <td>1</td>\n",
       "      <td>2</td>\n",
       "      <td>1</td>\n",
       "      <td>1</td>\n",
       "      <td>6</td>\n",
       "    </tr>\n",
       "    <tr>\n",
       "      <th>1</th>\n",
       "      <td>2</td>\n",
       "      <td>2</td>\n",
       "      <td>2</td>\n",
       "      <td>1</td>\n",
       "      <td>6</td>\n",
       "    </tr>\n",
       "    <tr>\n",
       "      <th>2</th>\n",
       "      <td>3</td>\n",
       "      <td>2</td>\n",
       "      <td>4</td>\n",
       "      <td>1</td>\n",
       "      <td>6</td>\n",
       "    </tr>\n",
       "    <tr>\n",
       "      <th>3</th>\n",
       "      <td>4</td>\n",
       "      <td>2</td>\n",
       "      <td>5</td>\n",
       "      <td>1</td>\n",
       "      <td>6</td>\n",
       "    </tr>\n",
       "    <tr>\n",
       "      <th>4</th>\n",
       "      <td>5</td>\n",
       "      <td>2</td>\n",
       "      <td>7</td>\n",
       "      <td>1</td>\n",
       "      <td>6</td>\n",
       "    </tr>\n",
       "    <tr>\n",
       "      <th>...</th>\n",
       "      <td>...</td>\n",
       "      <td>...</td>\n",
       "      <td>...</td>\n",
       "      <td>...</td>\n",
       "      <td>...</td>\n",
       "    </tr>\n",
       "    <tr>\n",
       "      <th>407</th>\n",
       "      <td>460</td>\n",
       "      <td>4</td>\n",
       "      <td>45</td>\n",
       "      <td>3</td>\n",
       "      <td>1</td>\n",
       "    </tr>\n",
       "    <tr>\n",
       "      <th>408</th>\n",
       "      <td>461</td>\n",
       "      <td>4</td>\n",
       "      <td>45</td>\n",
       "      <td>4</td>\n",
       "      <td>2</td>\n",
       "    </tr>\n",
       "    <tr>\n",
       "      <th>409</th>\n",
       "      <td>458</td>\n",
       "      <td>4</td>\n",
       "      <td>45</td>\n",
       "      <td>1</td>\n",
       "      <td>6</td>\n",
       "    </tr>\n",
       "    <tr>\n",
       "      <th>410</th>\n",
       "      <td>141</td>\n",
       "      <td>4</td>\n",
       "      <td>46</td>\n",
       "      <td>2</td>\n",
       "      <td>1</td>\n",
       "    </tr>\n",
       "    <tr>\n",
       "      <th>411</th>\n",
       "      <td>140</td>\n",
       "      <td>4</td>\n",
       "      <td>46</td>\n",
       "      <td>1</td>\n",
       "      <td>1</td>\n",
       "    </tr>\n",
       "  </tbody>\n",
       "</table>\n",
       "<p>412 rows × 5 columns</p>\n",
       "</div>"
      ],
      "text/plain": [
       "     Correlativo  Dominio  Lengua  TipoRasgo  ValorRasgo\n",
       "0              1        2       1          1           6\n",
       "1              2        2       2          1           6\n",
       "2              3        2       4          1           6\n",
       "3              4        2       5          1           6\n",
       "4              5        2       7          1           6\n",
       "..           ...      ...     ...        ...         ...\n",
       "407          460        4      45          3           1\n",
       "408          461        4      45          4           2\n",
       "409          458        4      45          1           6\n",
       "410          141        4      46          2           1\n",
       "411          140        4      46          1           1\n",
       "\n",
       "[412 rows x 5 columns]"
      ]
     },
     "execution_count": 3,
     "metadata": {},
     "output_type": "execute_result"
    }
   ],
   "source": [
    "datos_lenguas\n",
    "\n",
    "## miren columnas y filas (una matriz!!!) ¿Qué ideas nos da la forma que tienen los datos? Pensemos en las estructura que\n",
    "## ya conocemos!!! diccionarios, listas, if, for, ..."
   ]
  },
  {
   "cell_type": "code",
   "execution_count": 4,
   "metadata": {},
   "outputs": [],
   "source": [
    "## leemos las lenguas\n",
    "\n",
    "lenguas_areas = pd.read_csv('LenguasAndinas.csv',sep='\\t')"
   ]
  },
  {
   "cell_type": "code",
   "execution_count": 5,
   "metadata": {},
   "outputs": [
    {
     "data": {
      "text/html": [
       "<div>\n",
       "<style scoped>\n",
       "    .dataframe tbody tr th:only-of-type {\n",
       "        vertical-align: middle;\n",
       "    }\n",
       "\n",
       "    .dataframe tbody tr th {\n",
       "        vertical-align: top;\n",
       "    }\n",
       "\n",
       "    .dataframe thead th {\n",
       "        text-align: right;\n",
       "    }\n",
       "</style>\n",
       "<table border=\"1\" class=\"dataframe\">\n",
       "  <thead>\n",
       "    <tr style=\"text-align: right;\">\n",
       "      <th></th>\n",
       "      <th>Correlativo</th>\n",
       "      <th>Nombre Lengua</th>\n",
       "      <th>Región Lengua</th>\n",
       "      <th>País</th>\n",
       "      <th>Coordenadas Geográficas</th>\n",
       "    </tr>\n",
       "  </thead>\n",
       "  <tbody>\n",
       "    <tr>\n",
       "      <th>0</th>\n",
       "      <td>1</td>\n",
       "      <td>Mapudungun</td>\n",
       "      <td>Andes Sur</td>\n",
       "      <td>Chile</td>\n",
       "      <td>-</td>\n",
       "    </tr>\n",
       "    <tr>\n",
       "      <th>1</th>\n",
       "      <td>2</td>\n",
       "      <td>Quechua Ancash</td>\n",
       "      <td>Quechua I</td>\n",
       "      <td>Varios</td>\n",
       "      <td>-</td>\n",
       "    </tr>\n",
       "    <tr>\n",
       "      <th>2</th>\n",
       "      <td>3</td>\n",
       "      <td>Quechua de Cajamarca</td>\n",
       "      <td>Quechua IIA</td>\n",
       "      <td>Perú</td>\n",
       "      <td>-</td>\n",
       "    </tr>\n",
       "    <tr>\n",
       "      <th>3</th>\n",
       "      <td>4</td>\n",
       "      <td>Quechua Ecuatoriano</td>\n",
       "      <td>Quechua IIB</td>\n",
       "      <td>Ecuador</td>\n",
       "      <td>-</td>\n",
       "    </tr>\n",
       "    <tr>\n",
       "      <th>4</th>\n",
       "      <td>5</td>\n",
       "      <td>Quechua Ayacuchano</td>\n",
       "      <td>Quechua IIC</td>\n",
       "      <td>Perú</td>\n",
       "      <td>-</td>\n",
       "    </tr>\n",
       "    <tr>\n",
       "      <th>...</th>\n",
       "      <td>...</td>\n",
       "      <td>...</td>\n",
       "      <td>...</td>\n",
       "      <td>...</td>\n",
       "      <td>...</td>\n",
       "    </tr>\n",
       "    <tr>\n",
       "      <th>68</th>\n",
       "      <td>69</td>\n",
       "      <td>Xavante karaja</td>\n",
       "      <td>Amazonía</td>\n",
       "      <td>Brasil</td>\n",
       "      <td>-</td>\n",
       "    </tr>\n",
       "    <tr>\n",
       "      <th>69</th>\n",
       "      <td>70</td>\n",
       "      <td>Bora</td>\n",
       "      <td>Amazonía</td>\n",
       "      <td>Perú y Colombia</td>\n",
       "      <td>-</td>\n",
       "    </tr>\n",
       "    <tr>\n",
       "      <th>70</th>\n",
       "      <td>71</td>\n",
       "      <td>Sabané</td>\n",
       "      <td>Amazonía</td>\n",
       "      <td>Brasil</td>\n",
       "      <td>-</td>\n",
       "    </tr>\n",
       "    <tr>\n",
       "      <th>71</th>\n",
       "      <td>72</td>\n",
       "      <td>aguarana wampis</td>\n",
       "      <td>Amazonía</td>\n",
       "      <td>Perú</td>\n",
       "      <td>-</td>\n",
       "    </tr>\n",
       "    <tr>\n",
       "      <th>72</th>\n",
       "      <td>73</td>\n",
       "      <td>Maxakali apinave</td>\n",
       "      <td>Amazonía</td>\n",
       "      <td>Brasil</td>\n",
       "      <td>-</td>\n",
       "    </tr>\n",
       "  </tbody>\n",
       "</table>\n",
       "<p>73 rows × 5 columns</p>\n",
       "</div>"
      ],
      "text/plain": [
       "    Correlativo         Nombre Lengua Región Lengua             País  \\\n",
       "0             1            Mapudungun     Andes Sur            Chile   \n",
       "1             2        Quechua Ancash     Quechua I           Varios   \n",
       "2             3  Quechua de Cajamarca   Quechua IIA             Perú   \n",
       "3             4   Quechua Ecuatoriano   Quechua IIB          Ecuador   \n",
       "4             5    Quechua Ayacuchano   Quechua IIC             Perú   \n",
       "..          ...                   ...           ...              ...   \n",
       "68           69        Xavante karaja      Amazonía           Brasil   \n",
       "69           70                  Bora      Amazonía  Perú y Colombia   \n",
       "70           71                Sabané      Amazonía           Brasil   \n",
       "71           72       aguarana wampis      Amazonía             Perú   \n",
       "72           73      Maxakali apinave      Amazonía           Brasil   \n",
       "\n",
       "   Coordenadas Geográficas  \n",
       "0                        -  \n",
       "1                        -  \n",
       "2                        -  \n",
       "3                        -  \n",
       "4                        -  \n",
       "..                     ...  \n",
       "68                       -  \n",
       "69                       -  \n",
       "70                       -  \n",
       "71                       -  \n",
       "72                       -  \n",
       "\n",
       "[73 rows x 5 columns]"
      ]
     },
     "execution_count": 5,
     "metadata": {},
     "output_type": "execute_result"
    }
   ],
   "source": [
    "lenguas_areas"
   ]
  },
  {
   "cell_type": "markdown",
   "metadata": {},
   "source": [
    "#### Ordenamos los datos: en esto, hay muchas muchas opciones. Una podría ser usar \"pandas\". Sin embargo, para saber usar pandas es necesario (idealmente) saber usar algunas cosas básicas de Python. Es un círculo en que (según mi impresión) es mejor aprender un poco de **Python** primero. "
   ]
  },
  {
   "cell_type": "code",
   "execution_count": 6,
   "metadata": {},
   "outputs": [],
   "source": [
    "## primero, miremos los nombres de las lenguas\n",
    "\n",
    "lenguas_areas = lenguas_areas[['Correlativo','Nombre Lengua','Región Lengua']]"
   ]
  },
  {
   "cell_type": "code",
   "execution_count": 7,
   "metadata": {},
   "outputs": [
    {
     "data": {
      "text/html": [
       "<div>\n",
       "<style scoped>\n",
       "    .dataframe tbody tr th:only-of-type {\n",
       "        vertical-align: middle;\n",
       "    }\n",
       "\n",
       "    .dataframe tbody tr th {\n",
       "        vertical-align: top;\n",
       "    }\n",
       "\n",
       "    .dataframe thead th {\n",
       "        text-align: right;\n",
       "    }\n",
       "</style>\n",
       "<table border=\"1\" class=\"dataframe\">\n",
       "  <thead>\n",
       "    <tr style=\"text-align: right;\">\n",
       "      <th></th>\n",
       "      <th>Correlativo</th>\n",
       "      <th>Nombre Lengua</th>\n",
       "      <th>Región Lengua</th>\n",
       "    </tr>\n",
       "  </thead>\n",
       "  <tbody>\n",
       "    <tr>\n",
       "      <th>0</th>\n",
       "      <td>1</td>\n",
       "      <td>Mapudungun</td>\n",
       "      <td>Andes Sur</td>\n",
       "    </tr>\n",
       "    <tr>\n",
       "      <th>1</th>\n",
       "      <td>2</td>\n",
       "      <td>Quechua Ancash</td>\n",
       "      <td>Quechua I</td>\n",
       "    </tr>\n",
       "    <tr>\n",
       "      <th>2</th>\n",
       "      <td>3</td>\n",
       "      <td>Quechua de Cajamarca</td>\n",
       "      <td>Quechua IIA</td>\n",
       "    </tr>\n",
       "    <tr>\n",
       "      <th>3</th>\n",
       "      <td>4</td>\n",
       "      <td>Quechua Ecuatoriano</td>\n",
       "      <td>Quechua IIB</td>\n",
       "    </tr>\n",
       "    <tr>\n",
       "      <th>4</th>\n",
       "      <td>5</td>\n",
       "      <td>Quechua Ayacuchano</td>\n",
       "      <td>Quechua IIC</td>\n",
       "    </tr>\n",
       "    <tr>\n",
       "      <th>...</th>\n",
       "      <td>...</td>\n",
       "      <td>...</td>\n",
       "      <td>...</td>\n",
       "    </tr>\n",
       "    <tr>\n",
       "      <th>68</th>\n",
       "      <td>69</td>\n",
       "      <td>Xavante karaja</td>\n",
       "      <td>Amazonía</td>\n",
       "    </tr>\n",
       "    <tr>\n",
       "      <th>69</th>\n",
       "      <td>70</td>\n",
       "      <td>Bora</td>\n",
       "      <td>Amazonía</td>\n",
       "    </tr>\n",
       "    <tr>\n",
       "      <th>70</th>\n",
       "      <td>71</td>\n",
       "      <td>Sabané</td>\n",
       "      <td>Amazonía</td>\n",
       "    </tr>\n",
       "    <tr>\n",
       "      <th>71</th>\n",
       "      <td>72</td>\n",
       "      <td>aguarana wampis</td>\n",
       "      <td>Amazonía</td>\n",
       "    </tr>\n",
       "    <tr>\n",
       "      <th>72</th>\n",
       "      <td>73</td>\n",
       "      <td>Maxakali apinave</td>\n",
       "      <td>Amazonía</td>\n",
       "    </tr>\n",
       "  </tbody>\n",
       "</table>\n",
       "<p>73 rows × 3 columns</p>\n",
       "</div>"
      ],
      "text/plain": [
       "    Correlativo         Nombre Lengua Región Lengua\n",
       "0             1            Mapudungun     Andes Sur\n",
       "1             2        Quechua Ancash     Quechua I\n",
       "2             3  Quechua de Cajamarca   Quechua IIA\n",
       "3             4   Quechua Ecuatoriano   Quechua IIB\n",
       "4             5    Quechua Ayacuchano   Quechua IIC\n",
       "..          ...                   ...           ...\n",
       "68           69        Xavante karaja      Amazonía\n",
       "69           70                  Bora      Amazonía\n",
       "70           71                Sabané      Amazonía\n",
       "71           72       aguarana wampis      Amazonía\n",
       "72           73      Maxakali apinave      Amazonía\n",
       "\n",
       "[73 rows x 3 columns]"
      ]
     },
     "execution_count": 7,
     "metadata": {},
     "output_type": "execute_result"
    }
   ],
   "source": [
    "lenguas_areas"
   ]
  },
  {
   "cell_type": "code",
   "execution_count": 8,
   "metadata": {},
   "outputs": [],
   "source": [
    "## construyamos un diccionario numero:nombre lengua\n",
    "\n",
    "numero = [num for num in lenguas_areas['Correlativo']]\n",
    "nombre = [area for area in lenguas_areas['Nombre Lengua']]"
   ]
  },
  {
   "cell_type": "code",
   "execution_count": 9,
   "metadata": {},
   "outputs": [],
   "source": [
    "## juntemos las dos listas\n",
    "\n",
    "numero_nombre = [[numero[i],nombre[i]] for i in range(len(numero))]"
   ]
  },
  {
   "cell_type": "code",
   "execution_count": 10,
   "metadata": {},
   "outputs": [],
   "source": [
    "## transformemos esto en diccionario\n",
    "\n",
    "numero_nombre = {item[0]:item[1] for item in numero_nombre}"
   ]
  },
  {
   "cell_type": "code",
   "execution_count": 11,
   "metadata": {},
   "outputs": [
    {
     "data": {
      "text/plain": [
       "'Mapudungun'"
      ]
     },
     "execution_count": 11,
     "metadata": {},
     "output_type": "execute_result"
    }
   ],
   "source": [
    "numero_nombre[1]"
   ]
  },
  {
   "cell_type": "code",
   "execution_count": 12,
   "metadata": {},
   "outputs": [],
   "source": [
    "## miremos ahora los dominios de los datos\n",
    "\n",
    "dominios = []\n",
    "\n",
    "## extraemos la columna\n",
    "columna_dom = [dom for dom in datos_lenguas['Dominio']]\n",
    "\n",
    "## recorremos la columna y agregamos solo los datos que no tenemos\n",
    "for dom in columna_dom:\n",
    "    if dom not in dominios:\n",
    "        dominios = dominios + [dom]"
   ]
  },
  {
   "cell_type": "code",
   "execution_count": 13,
   "metadata": {},
   "outputs": [
    {
     "data": {
      "text/plain": [
       "[2, 3, 4]"
      ]
     },
     "execution_count": 13,
     "metadata": {},
     "output_type": "execute_result"
    }
   ],
   "source": [
    "dominios"
   ]
  },
  {
   "cell_type": "markdown",
   "metadata": {},
   "source": [
    "#### Miremos el dominio \"estructura argumental\""
   ]
  },
  {
   "cell_type": "code",
   "execution_count": 14,
   "metadata": {},
   "outputs": [],
   "source": [
    "## filtramos por dominio 4 (estructura argumental)\n",
    "\n",
    "dominio_negacion = datos_lenguas[datos_lenguas['Dominio']==4]\n",
    "\n",
    "dominio_negacion = datos_lenguas[['Lengua','TipoRasgo','ValorRasgo']]"
   ]
  },
  {
   "cell_type": "code",
   "execution_count": 15,
   "metadata": {},
   "outputs": [
    {
     "data": {
      "text/html": [
       "<div>\n",
       "<style scoped>\n",
       "    .dataframe tbody tr th:only-of-type {\n",
       "        vertical-align: middle;\n",
       "    }\n",
       "\n",
       "    .dataframe tbody tr th {\n",
       "        vertical-align: top;\n",
       "    }\n",
       "\n",
       "    .dataframe thead th {\n",
       "        text-align: right;\n",
       "    }\n",
       "</style>\n",
       "<table border=\"1\" class=\"dataframe\">\n",
       "  <thead>\n",
       "    <tr style=\"text-align: right;\">\n",
       "      <th></th>\n",
       "      <th>Lengua</th>\n",
       "      <th>TipoRasgo</th>\n",
       "      <th>ValorRasgo</th>\n",
       "    </tr>\n",
       "  </thead>\n",
       "  <tbody>\n",
       "    <tr>\n",
       "      <th>0</th>\n",
       "      <td>1</td>\n",
       "      <td>1</td>\n",
       "      <td>6</td>\n",
       "    </tr>\n",
       "    <tr>\n",
       "      <th>1</th>\n",
       "      <td>2</td>\n",
       "      <td>1</td>\n",
       "      <td>6</td>\n",
       "    </tr>\n",
       "    <tr>\n",
       "      <th>2</th>\n",
       "      <td>4</td>\n",
       "      <td>1</td>\n",
       "      <td>6</td>\n",
       "    </tr>\n",
       "    <tr>\n",
       "      <th>3</th>\n",
       "      <td>5</td>\n",
       "      <td>1</td>\n",
       "      <td>6</td>\n",
       "    </tr>\n",
       "    <tr>\n",
       "      <th>4</th>\n",
       "      <td>7</td>\n",
       "      <td>1</td>\n",
       "      <td>6</td>\n",
       "    </tr>\n",
       "    <tr>\n",
       "      <th>...</th>\n",
       "      <td>...</td>\n",
       "      <td>...</td>\n",
       "      <td>...</td>\n",
       "    </tr>\n",
       "    <tr>\n",
       "      <th>407</th>\n",
       "      <td>45</td>\n",
       "      <td>3</td>\n",
       "      <td>1</td>\n",
       "    </tr>\n",
       "    <tr>\n",
       "      <th>408</th>\n",
       "      <td>45</td>\n",
       "      <td>4</td>\n",
       "      <td>2</td>\n",
       "    </tr>\n",
       "    <tr>\n",
       "      <th>409</th>\n",
       "      <td>45</td>\n",
       "      <td>1</td>\n",
       "      <td>6</td>\n",
       "    </tr>\n",
       "    <tr>\n",
       "      <th>410</th>\n",
       "      <td>46</td>\n",
       "      <td>2</td>\n",
       "      <td>1</td>\n",
       "    </tr>\n",
       "    <tr>\n",
       "      <th>411</th>\n",
       "      <td>46</td>\n",
       "      <td>1</td>\n",
       "      <td>1</td>\n",
       "    </tr>\n",
       "  </tbody>\n",
       "</table>\n",
       "<p>412 rows × 3 columns</p>\n",
       "</div>"
      ],
      "text/plain": [
       "     Lengua  TipoRasgo  ValorRasgo\n",
       "0         1          1           6\n",
       "1         2          1           6\n",
       "2         4          1           6\n",
       "3         5          1           6\n",
       "4         7          1           6\n",
       "..      ...        ...         ...\n",
       "407      45          3           1\n",
       "408      45          4           2\n",
       "409      45          1           6\n",
       "410      46          2           1\n",
       "411      46          1           1\n",
       "\n",
       "[412 rows x 3 columns]"
      ]
     },
     "execution_count": 15,
     "metadata": {},
     "output_type": "execute_result"
    }
   ],
   "source": [
    "dominio_negacion"
   ]
  },
  {
   "cell_type": "code",
   "execution_count": 16,
   "metadata": {},
   "outputs": [],
   "source": [
    "## lenguas que tienen información de EA\n",
    "\n",
    "datos_lenguas_neg = [lengua for lengua in dominio_negacion['Lengua']]"
   ]
  },
  {
   "cell_type": "code",
   "execution_count": 17,
   "metadata": {},
   "outputs": [],
   "source": [
    "lenguas = []\n",
    "\n",
    "for lengua in datos_lenguas_neg:\n",
    "    if lengua not in lenguas:\n",
    "        lenguas = lenguas + [lengua]"
   ]
  },
  {
   "cell_type": "code",
   "execution_count": 18,
   "metadata": {},
   "outputs": [],
   "source": [
    "## diccionario donde guardamos los datos\n",
    "\n",
    "D_negacion = {lengua:{} for lengua in lenguas}"
   ]
  },
  {
   "cell_type": "markdown",
   "metadata": {},
   "source": [
    "##### usemos loc en pandas :) [link útil](https://pandas.pydata.org/pandas-docs/stable/reference/api/pandas.DataFrame.loc.html) [otro link útil](https://www.w3resource.com/pandas/dataframe/dataframe-loc.php)"
   ]
  },
  {
   "cell_type": "code",
   "execution_count": 19,
   "metadata": {},
   "outputs": [],
   "source": [
    "## miremos una mini base de datos en pandas\n",
    "\n",
    "df = pd.DataFrame([[2, 3], [5, 6], [8, 9]],\n",
    "     index=[1, 2, 3],\n",
    "     columns=['altura', 'peso'])"
   ]
  },
  {
   "cell_type": "code",
   "execution_count": 20,
   "metadata": {},
   "outputs": [
    {
     "data": {
      "text/html": [
       "<div>\n",
       "<style scoped>\n",
       "    .dataframe tbody tr th:only-of-type {\n",
       "        vertical-align: middle;\n",
       "    }\n",
       "\n",
       "    .dataframe tbody tr th {\n",
       "        vertical-align: top;\n",
       "    }\n",
       "\n",
       "    .dataframe thead th {\n",
       "        text-align: right;\n",
       "    }\n",
       "</style>\n",
       "<table border=\"1\" class=\"dataframe\">\n",
       "  <thead>\n",
       "    <tr style=\"text-align: right;\">\n",
       "      <th></th>\n",
       "      <th>altura</th>\n",
       "      <th>peso</th>\n",
       "    </tr>\n",
       "  </thead>\n",
       "  <tbody>\n",
       "    <tr>\n",
       "      <th>1</th>\n",
       "      <td>2</td>\n",
       "      <td>3</td>\n",
       "    </tr>\n",
       "    <tr>\n",
       "      <th>2</th>\n",
       "      <td>5</td>\n",
       "      <td>6</td>\n",
       "    </tr>\n",
       "    <tr>\n",
       "      <th>3</th>\n",
       "      <td>8</td>\n",
       "      <td>9</td>\n",
       "    </tr>\n",
       "  </tbody>\n",
       "</table>\n",
       "</div>"
      ],
      "text/plain": [
       "   altura  peso\n",
       "1       2     3\n",
       "2       5     6\n",
       "3       8     9"
      ]
     },
     "execution_count": 20,
     "metadata": {},
     "output_type": "execute_result"
    }
   ],
   "source": [
    "df"
   ]
  },
  {
   "cell_type": "code",
   "execution_count": 21,
   "metadata": {},
   "outputs": [
    {
     "data": {
      "text/plain": [
       "2"
      ]
     },
     "execution_count": 21,
     "metadata": {},
     "output_type": "execute_result"
    }
   ],
   "source": [
    "## algunos simples ejercicios\n",
    "## altura del primer individuo\n",
    "\n",
    "df.loc[1,'altura']"
   ]
  },
  {
   "cell_type": "code",
   "execution_count": 22,
   "metadata": {},
   "outputs": [
    {
     "data": {
      "text/html": [
       "<div>\n",
       "<style scoped>\n",
       "    .dataframe tbody tr th:only-of-type {\n",
       "        vertical-align: middle;\n",
       "    }\n",
       "\n",
       "    .dataframe tbody tr th {\n",
       "        vertical-align: top;\n",
       "    }\n",
       "\n",
       "    .dataframe thead th {\n",
       "        text-align: right;\n",
       "    }\n",
       "</style>\n",
       "<table border=\"1\" class=\"dataframe\">\n",
       "  <thead>\n",
       "    <tr style=\"text-align: right;\">\n",
       "      <th></th>\n",
       "      <th>altura</th>\n",
       "      <th>peso</th>\n",
       "    </tr>\n",
       "  </thead>\n",
       "  <tbody>\n",
       "    <tr>\n",
       "      <th>2</th>\n",
       "      <td>5</td>\n",
       "      <td>6</td>\n",
       "    </tr>\n",
       "    <tr>\n",
       "      <th>3</th>\n",
       "      <td>8</td>\n",
       "      <td>9</td>\n",
       "    </tr>\n",
       "  </tbody>\n",
       "</table>\n",
       "</div>"
      ],
      "text/plain": [
       "   altura  peso\n",
       "2       5     6\n",
       "3       8     9"
      ]
     },
     "execution_count": 22,
     "metadata": {},
     "output_type": "execute_result"
    }
   ],
   "source": [
    "## individuos que tengan altura mayor a 4\n",
    "\n",
    "df.loc[df['altura']>4]"
   ]
  },
  {
   "cell_type": "code",
   "execution_count": 23,
   "metadata": {},
   "outputs": [],
   "source": [
    "## en este ciclo for recorremos los datos con el índice \"i\". Fíjense que D_negación fue definido como\n",
    "## un diccionario de lenguas, donde cada value es otro diccionario que guarda los tipos de rasgos\n",
    "## y sus valores. \n",
    "\n",
    "\n",
    "for i in dominio_negacion.index:\n",
    "    D_negacion[dominio_negacion.loc[i,'Lengua']][dominio_negacion.loc[i,'TipoRasgo']]=dominio_negacion.loc[i,'ValorRasgo']"
   ]
  },
  {
   "cell_type": "code",
   "execution_count": 24,
   "metadata": {},
   "outputs": [
    {
     "data": {
      "text/plain": [
       "{1: {1: 2, 2: 4, 3: 1, 4: 2, 5: 1, 7: 1, 8: 1, 9: 1, 10: 1, 11: 1},\n",
       " 2: {1: 2, 2: 4, 3: 1, 4: 2, 7: 1, 8: 1, 9: 3, 11: 4},\n",
       " 4: {1: 6, 3: 1, 7: 1, 9: 3, 10: 2},\n",
       " 5: {1: 6, 2: 8, 3: 1, 5: 1, 7: 1, 8: 1, 9: 3, 4: 2},\n",
       " 7: {1: 6, 3: 2, 4: 1, 5: 1, 8: 1, 9: 3, 11: 4, 2: 8},\n",
       " 8: {1: 6, 3: 2, 4: 2, 5: 1, 8: 1, 9: 1, 11: 4, 2: 8},\n",
       " 9: {1: 1, 3: 1, 4: 1, 8: 1, 9: 4, 2: 1},\n",
       " 10: {1: 1, 3: 1, 7: 1, 8: 1, 9: 4, 10: 1, 11: 2, 2: 1, 4: 0},\n",
       " 11: {1: 2, 3: 1, 4: 4, 8: 2, 9: 2, 10: 1, 11: 2, 2: 4},\n",
       " 12: {1: 1, 3: 2, 4: 3, 7: 1, 8: 5, 9: 4, 10: 1, 11: 4, 2: 1},\n",
       " 17: {1: 1, 3: 1, 4: 1, 7: 2, 8: 2, 10: 1, 11: 3},\n",
       " 19: {1: 2},\n",
       " 20: {1: 2},\n",
       " 21: {1: 2, 3: 1, 4: 2, 7: 2, 8: 2, 9: 2, 10: 1, 11: 2, 2: 3},\n",
       " 22: {1: 4},\n",
       " 23: {1: 3, 3: 1, 4: 2, 7: 2, 8: 2, 9: 4, 10: 1, 11: 5},\n",
       " 25: {1: 1, 3: 1, 7: 2, 8: 2, 9: 4, 10: 1, 11: 3, 2: 1},\n",
       " 26: {1: 2, 5: 1, 7: 2, 8: 2, 9: 4, 10: 1, 11: 2, 2: 4},\n",
       " 27: {1: 1, 3: 3, 7: 1, 8: 3, 9: 4, 10: 1, 11: 5, 2: 2},\n",
       " 28: {1: 4, 7: 2, 8: 2, 9: 2, 10: 3, 11: 2},\n",
       " 29: {1: 3, 3: 1, 7: 1, 8: 1, 9: 5, 10: 4, 11: 3},\n",
       " 30: {1: 6, 3: 1, 7: 1, 9: 5, 10: 1},\n",
       " 31: {1: 4},\n",
       " 32: {1: 4},\n",
       " 34: {1: 4, 3: 2, 8: 6, 9: 3, 10: 2, 11: 4},\n",
       " 35: {1: 1, 4: 2, 7: 1, 8: 2, 9: 1, 2: 1},\n",
       " 36: {1: 6, 7: 2, 8: 2},\n",
       " 37: {1: 6, 3: 1, 7: 1, 8: 1, 9: 4, 10: 1, 11: 5},\n",
       " 38: {1: 6},\n",
       " 3: {2: 8, 3: 1, 4: 2, 5: 1, 7: 1, 8: 1, 9: 3, 10: 2, 1: 6},\n",
       " 13: {3: 1, 7: 2, 8: 2, 9: 4, 2: 4, 4: 2, 1: 2},\n",
       " 14: {3: 2, 4: 3, 7: 1, 8: 1, 9: 4, 10: 1, 11: 2, 2: 4, 1: 2},\n",
       " 15: {1: 1, 3: 1, 4: 2, 7: 1, 8: 1, 9: 4, 10: 1, 11: 4, 2: 1},\n",
       " 16: {3: 1, 4: 3, 7: 2, 8: 2, 9: 4, 10: 1, 2: 2, 1: 3},\n",
       " 39: {3: 1, 5: 1, 7: 1, 8: 1, 9: 3, 10: 2, 11: 4, 2: 8, 4: 2, 1: 6},\n",
       " 41: {2: 1, 3: 1, 8: 1, 9: 1, 10: 1, 11: 1, 4: 2, 1: 1},\n",
       " 42: {3: 1, 7: 1, 8: 1, 9: 4, 10: 1, 11: 1},\n",
       " 43: {3: 1, 7: 1, 9: 2, 10: 1, 11: 2},\n",
       " 44: {3: 1, 7: 1, 8: 1, 9: 3, 10: 2, 11: 4, 2: 1, 4: 2, 1: 1},\n",
       " 45: {3: 1, 8: 1, 2: 8, 4: 2, 1: 6},\n",
       " 46: {3: 3, 7: 4, 8: 5, 9: 4, 2: 1, 1: 1},\n",
       " 47: {7: 2, 8: 2},\n",
       " 52: {4: 3, 7: 1, 8: 1, 9: 4, 10: 1, 11: 5},\n",
       " 53: {3: 2, 7: 1, 8: 1, 9: 3, 10: 2, 11: 4},\n",
       " 54: {7: 1, 8: 1, 9: 4, 10: 1, 11: 5},\n",
       " 55: {7: 3, 8: 3, 9: 4, 10: 1, 11: 5},\n",
       " 56: {7: 1, 8: 6, 9: 4, 10: 1, 11: 4},\n",
       " 57: {3: 1, 8: 3, 9: 5, 10: 4, 11: 3},\n",
       " 58: {3: 3, 7: 2, 8: 3, 9: 4, 10: 1, 11: 4},\n",
       " 59: {7: 5, 8: 6, 9: 3, 11: 4},\n",
       " 60: {8: 1},\n",
       " 62: {4: 3, 7: 4, 9: 4, 10: 1, 11: 3},\n",
       " 63: {7: 1, 8: 1, 9: 2, 10: 1, 11: 2},\n",
       " 64: {2: 1, 7: 4, 8: 5, 9: 5, 10: 1, 11: 5},\n",
       " 68: {3: 1, 4: 2, 7: 2, 8: 1, 9: 3, 10: 2, 11: 4},\n",
       " 71: {8: 2},\n",
       " 72: {2: 1, 3: 1, 7: 1, 8: 1, 9: 5, 10: 4, 11: 3}}"
      ]
     },
     "execution_count": 24,
     "metadata": {},
     "output_type": "execute_result"
    }
   ],
   "source": [
    "D_negacion"
   ]
  },
  {
   "cell_type": "markdown",
   "metadata": {},
   "source": [
    "#### Ahora lo nuevo del día 24 de agosto!!!"
   ]
  },
  {
   "cell_type": "code",
   "execution_count": 25,
   "metadata": {},
   "outputs": [],
   "source": [
    "## juntemos todo en una sola función :)\n",
    "\n",
    "def read_lenguas_andinas(file, names, dominio_num):\n",
    "    \n",
    "    ## leemos los datos\n",
    "    ## rasgos!\n",
    "    datos_lenguas = pd.read_csv(file,sep=';')\n",
    "    ## nombre lenguas!\n",
    "    lenguas_areas = pd.read_csv(names,sep='\\t')\n",
    "    lenguas_areas = lenguas_areas[['Correlativo','Nombre Lengua']]\n",
    "    ## creamos un diccionario numero:nombre\n",
    "    numero = [num for num in lenguas_areas['Correlativo']]\n",
    "    nombre = [area for area in lenguas_areas['Nombre Lengua']]\n",
    "    numero_nombre = [[numero[i],nombre[i]] for i in range(len(numero))]\n",
    "    numero_nombre = {item[0]:item[1] for item in numero_nombre}\n",
    "    ## ahora filtramos por dominio (no es estrictamente necesario, igual prefiero hacerlo)\n",
    "    dominio = datos_lenguas[datos_lenguas['Dominio']==dominio_num]\n",
    "    ## lenguas con anotación en este dominio\n",
    "    datos_lenguas = [lengua for lengua in dominio['Lengua']]\n",
    "    lenguas = []\n",
    "    \n",
    "    ## valores únicos de lenguas\n",
    "    for lengua in datos_lenguas:\n",
    "        if lengua not in lenguas:\n",
    "            lenguas = lenguas + [lengua]\n",
    "    \n",
    "    ## diccionario para guardar los datos\n",
    "    D = {lengua:{} for lengua in lenguas}\n",
    "    \n",
    "    ## recorremos usando loc :)\n",
    "    for i in list(dominio.index):\n",
    "        D[dominio.loc[i,'Lengua']][dominio.loc[i,'TipoRasgo']]=dominio.loc[i,'ValorRasgo']\n",
    "    \n",
    "    return {numero_nombre[key]:D[key] for key in D.keys()} ## diccionario!"
   ]
  },
  {
   "cell_type": "code",
   "execution_count": 26,
   "metadata": {},
   "outputs": [
    {
     "data": {
      "text/plain": [
       "{'Mapudungun': {2: 1, 3: 1, 4: 2, 5: 1, 7: 1, 8: 1, 9: 1, 10: 1, 11: 1},\n",
       " 'Quechua Ancash': {2: 1, 3: 1, 4: 2, 7: 1, 8: 1, 9: 3, 11: 4},\n",
       " 'Quechua de Cajamarca': {2: 1, 3: 1, 4: 2, 5: 1, 7: 1, 8: 1, 9: 3, 10: 2},\n",
       " 'Quechua Ecuatoriano': {3: 1, 7: 1, 9: 3, 10: 2},\n",
       " 'Quechua Ayacuchano': {2: 1, 3: 1, 5: 1, 7: 1, 8: 1, 9: 3},\n",
       " 'Aymara Sureño': {3: 1, 4: 2, 5: 1, 8: 1, 9: 3, 11: 4},\n",
       " 'Jaqaru': {3: 1, 4: 2, 5: 1, 8: 1, 9: 1, 11: 4},\n",
       " 'Chipaya': {3: 1, 4: 2, 8: 1, 9: 4},\n",
       " 'Uchumataqu': {3: 1, 7: 1, 8: 1, 9: 4, 10: 1, 11: 2},\n",
       " 'Cholón': {3: 1, 4: 2, 8: 2, 9: 2, 10: 1, 11: 2},\n",
       " 'Mochica': {3: 2, 4: 3, 7: 1, 8: 5, 9: 4, 10: 1, 11: 4},\n",
       " 'Kunza': {3: 1, 7: 2, 8: 2, 9: 4},\n",
       " 'Millcayac': {3: 1, 4: 2, 7: 1, 8: 1, 9: 4, 10: 1, 11: 2},\n",
       " 'Allentiac': {1: 3, 3: 1, 4: 2, 7: 1, 8: 1, 9: 4, 10: 1, 11: 4},\n",
       " 'Selknam': {3: 1, 4: 3, 7: 2, 8: 2, 9: 4, 10: 1},\n",
       " 'Yagan': {3: 1, 4: 1, 7: 2, 8: 2, 10: 1, 11: 3},\n",
       " 'Pilagá': {3: 1, 4: 2, 7: 2, 8: 2, 9: 2, 10: 1, 11: 2},\n",
       " 'Wichí': {3: 1, 4: 2, 7: 2, 8: 2, 9: 4, 10: 1, 11: 5},\n",
       " 'Ayoreo': {3: 1, 7: 2, 8: 2, 9: 4, 10: 1, 11: 3},\n",
       " 'Tapiete': {5: 1, 7: 2, 8: 2, 9: 4, 10: 1, 11: 2},\n",
       " 'Kaweskar': {3: 3, 7: 1, 8: 3, 9: 4, 10: 1, 11: 5},\n",
       " 'Tehuelche': {7: 2, 8: 2, 9: 2, 10: 3, 11: 2},\n",
       " 'Secoya': {3: 1, 7: 1, 8: 1, 9: 5, 10: 4, 11: 3},\n",
       " 'Urarina': {8: 1},\n",
       " 'trumai': {3: 2, 8: 6, 9: 3, 10: 2, 11: 4},\n",
       " 'yanesha': {4: 2, 7: 1, 8: 2, 9: 1},\n",
       " 'Tariana': {7: 2, 8: 2},\n",
       " 'Tucano': {3: 1, 7: 1, 8: 1, 9: 4, 10: 1, 11: 5},\n",
       " 'Quechua de Yauyos Sur': {3: 1, 5: 1, 7: 1, 8: 1, 9: 3, 10: 2, 11: 4},\n",
       " 'Puquina': {2: 1, 3: 1, 8: 1, 9: 1, 10: 1, 11: 1},\n",
       " 'Lule': {3: 1, 7: 1, 8: 1, 9: 4, 10: 1, 11: 1},\n",
       " 'vilela': {3: 1, 7: 1, 9: 2, 10: 1, 11: 2},\n",
       " 'Quechua de Santiago del Estero': {3: 1, 7: 1, 8: 1, 9: 3, 10: 2, 11: 4},\n",
       " 'Quechua Pacaraos': {3: 1, 8: 1},\n",
       " 'kokama': {3: 3, 7: 4, 8: 5, 9: 4},\n",
       " 'Gaviao': {7: 2, 8: 2},\n",
       " 'Kashibo-Kakataibo': {4: 3, 7: 1, 8: 1, 9: 4, 10: 1, 11: 5},\n",
       " 'Matsés': {3: 2, 7: 1, 8: 1, 9: 3, 10: 2, 11: 4},\n",
       " 'shiwilu': {7: 1, 8: 1, 9: 4, 10: 1, 11: 5},\n",
       " 'cavineña': {7: 3, 8: 3, 9: 4, 10: 1, 11: 5},\n",
       " 'Sanuma': {7: 1, 8: 6, 9: 4, 10: 1, 11: 4},\n",
       " 'Hup': {3: 1, 8: 3, 9: 5, 10: 4, 11: 3},\n",
       " 'kulina': {3: 3, 7: 2, 8: 3, 9: 4, 10: 1, 11: 4},\n",
       " 'bora': {7: 5, 8: 6, 9: 3, 11: 4},\n",
       " 'Baure': {4: 3, 7: 4, 9: 4, 10: 1, 11: 3},\n",
       " 'Yurakare': {7: 1, 8: 1, 9: 2, 10: 1, 11: 2},\n",
       " 'Movima': {2: 1, 7: 4, 8: 5, 9: 5, 10: 1, 11: 5},\n",
       " 'Harakmbut': {3: 1, 4: 2, 7: 2, 8: 1, 9: 3, 10: 2, 11: 4},\n",
       " 'Sabané': {8: 2},\n",
       " 'aguarana wampis': {2: 1, 3: 1, 7: 1, 8: 1, 9: 5, 10: 4, 11: 3}}"
      ]
     },
     "execution_count": 26,
     "metadata": {},
     "output_type": "execute_result"
    }
   ],
   "source": [
    "read_lenguas_andinas('TablaDominios.csv','LenguasAndinas.csv',3)"
   ]
  },
  {
   "cell_type": "code",
   "execution_count": 27,
   "metadata": {},
   "outputs": [],
   "source": [
    "## guardemos como csv los datos :)\n",
    "\n",
    "def lenguas_andinas_dominio_csv(file,names,dom):\n",
    "    return pd.DataFrame.from_dict(read_lenguas_andinas(file,names,dom)).to_csv('dominio_'+str(dom)+'.csv')"
   ]
  },
  {
   "cell_type": "code",
   "execution_count": 31,
   "metadata": {},
   "outputs": [],
   "source": [
    "lenguas_andinas_dominio_csv('TablaDominios.csv','LenguasAndinas.csv',3)"
   ]
  },
  {
   "cell_type": "code",
   "execution_count": 32,
   "metadata": {},
   "outputs": [],
   "source": [
    "dominio_3 = pd.read_csv('dominio_3.csv',sep=',').rename(columns={'Unnamed: 0': 'rasgos'})"
   ]
  },
  {
   "cell_type": "code",
   "execution_count": 33,
   "metadata": {},
   "outputs": [
    {
     "data": {
      "text/html": [
       "<div>\n",
       "<style scoped>\n",
       "    .dataframe tbody tr th:only-of-type {\n",
       "        vertical-align: middle;\n",
       "    }\n",
       "\n",
       "    .dataframe tbody tr th {\n",
       "        vertical-align: top;\n",
       "    }\n",
       "\n",
       "    .dataframe thead th {\n",
       "        text-align: right;\n",
       "    }\n",
       "</style>\n",
       "<table border=\"1\" class=\"dataframe\">\n",
       "  <thead>\n",
       "    <tr style=\"text-align: right;\">\n",
       "      <th></th>\n",
       "      <th>rasgos</th>\n",
       "      <th>Mapudungun</th>\n",
       "      <th>Quechua Ancash</th>\n",
       "      <th>Quechua de Cajamarca</th>\n",
       "      <th>Quechua Ecuatoriano</th>\n",
       "      <th>Quechua Ayacuchano</th>\n",
       "      <th>Aymara Sureño</th>\n",
       "      <th>Jaqaru</th>\n",
       "      <th>Chipaya</th>\n",
       "      <th>Uchumataqu</th>\n",
       "      <th>...</th>\n",
       "      <th>Sanuma</th>\n",
       "      <th>Hup</th>\n",
       "      <th>kulina</th>\n",
       "      <th>bora</th>\n",
       "      <th>Baure</th>\n",
       "      <th>Yurakare</th>\n",
       "      <th>Movima</th>\n",
       "      <th>Harakmbut</th>\n",
       "      <th>Sabané</th>\n",
       "      <th>aguarana wampis</th>\n",
       "    </tr>\n",
       "  </thead>\n",
       "  <tbody>\n",
       "    <tr>\n",
       "      <th>0</th>\n",
       "      <td>2</td>\n",
       "      <td>1.0</td>\n",
       "      <td>1.0</td>\n",
       "      <td>1.0</td>\n",
       "      <td>NaN</td>\n",
       "      <td>1.0</td>\n",
       "      <td>NaN</td>\n",
       "      <td>NaN</td>\n",
       "      <td>NaN</td>\n",
       "      <td>NaN</td>\n",
       "      <td>...</td>\n",
       "      <td>NaN</td>\n",
       "      <td>NaN</td>\n",
       "      <td>NaN</td>\n",
       "      <td>NaN</td>\n",
       "      <td>NaN</td>\n",
       "      <td>NaN</td>\n",
       "      <td>1.0</td>\n",
       "      <td>NaN</td>\n",
       "      <td>NaN</td>\n",
       "      <td>1.0</td>\n",
       "    </tr>\n",
       "    <tr>\n",
       "      <th>1</th>\n",
       "      <td>3</td>\n",
       "      <td>1.0</td>\n",
       "      <td>1.0</td>\n",
       "      <td>1.0</td>\n",
       "      <td>1.0</td>\n",
       "      <td>1.0</td>\n",
       "      <td>1.0</td>\n",
       "      <td>1.0</td>\n",
       "      <td>1.0</td>\n",
       "      <td>1.0</td>\n",
       "      <td>...</td>\n",
       "      <td>NaN</td>\n",
       "      <td>1.0</td>\n",
       "      <td>3.0</td>\n",
       "      <td>NaN</td>\n",
       "      <td>NaN</td>\n",
       "      <td>NaN</td>\n",
       "      <td>NaN</td>\n",
       "      <td>1.0</td>\n",
       "      <td>NaN</td>\n",
       "      <td>1.0</td>\n",
       "    </tr>\n",
       "    <tr>\n",
       "      <th>2</th>\n",
       "      <td>4</td>\n",
       "      <td>2.0</td>\n",
       "      <td>2.0</td>\n",
       "      <td>2.0</td>\n",
       "      <td>NaN</td>\n",
       "      <td>NaN</td>\n",
       "      <td>2.0</td>\n",
       "      <td>2.0</td>\n",
       "      <td>2.0</td>\n",
       "      <td>NaN</td>\n",
       "      <td>...</td>\n",
       "      <td>NaN</td>\n",
       "      <td>NaN</td>\n",
       "      <td>NaN</td>\n",
       "      <td>NaN</td>\n",
       "      <td>3.0</td>\n",
       "      <td>NaN</td>\n",
       "      <td>NaN</td>\n",
       "      <td>2.0</td>\n",
       "      <td>NaN</td>\n",
       "      <td>NaN</td>\n",
       "    </tr>\n",
       "    <tr>\n",
       "      <th>3</th>\n",
       "      <td>5</td>\n",
       "      <td>1.0</td>\n",
       "      <td>NaN</td>\n",
       "      <td>1.0</td>\n",
       "      <td>NaN</td>\n",
       "      <td>1.0</td>\n",
       "      <td>1.0</td>\n",
       "      <td>1.0</td>\n",
       "      <td>NaN</td>\n",
       "      <td>NaN</td>\n",
       "      <td>...</td>\n",
       "      <td>NaN</td>\n",
       "      <td>NaN</td>\n",
       "      <td>NaN</td>\n",
       "      <td>NaN</td>\n",
       "      <td>NaN</td>\n",
       "      <td>NaN</td>\n",
       "      <td>NaN</td>\n",
       "      <td>NaN</td>\n",
       "      <td>NaN</td>\n",
       "      <td>NaN</td>\n",
       "    </tr>\n",
       "    <tr>\n",
       "      <th>4</th>\n",
       "      <td>7</td>\n",
       "      <td>1.0</td>\n",
       "      <td>1.0</td>\n",
       "      <td>1.0</td>\n",
       "      <td>1.0</td>\n",
       "      <td>1.0</td>\n",
       "      <td>NaN</td>\n",
       "      <td>NaN</td>\n",
       "      <td>NaN</td>\n",
       "      <td>1.0</td>\n",
       "      <td>...</td>\n",
       "      <td>1.0</td>\n",
       "      <td>NaN</td>\n",
       "      <td>2.0</td>\n",
       "      <td>5.0</td>\n",
       "      <td>4.0</td>\n",
       "      <td>1.0</td>\n",
       "      <td>4.0</td>\n",
       "      <td>2.0</td>\n",
       "      <td>NaN</td>\n",
       "      <td>1.0</td>\n",
       "    </tr>\n",
       "    <tr>\n",
       "      <th>5</th>\n",
       "      <td>8</td>\n",
       "      <td>1.0</td>\n",
       "      <td>1.0</td>\n",
       "      <td>1.0</td>\n",
       "      <td>NaN</td>\n",
       "      <td>1.0</td>\n",
       "      <td>1.0</td>\n",
       "      <td>1.0</td>\n",
       "      <td>1.0</td>\n",
       "      <td>1.0</td>\n",
       "      <td>...</td>\n",
       "      <td>6.0</td>\n",
       "      <td>3.0</td>\n",
       "      <td>3.0</td>\n",
       "      <td>6.0</td>\n",
       "      <td>NaN</td>\n",
       "      <td>1.0</td>\n",
       "      <td>5.0</td>\n",
       "      <td>1.0</td>\n",
       "      <td>2.0</td>\n",
       "      <td>1.0</td>\n",
       "    </tr>\n",
       "    <tr>\n",
       "      <th>6</th>\n",
       "      <td>9</td>\n",
       "      <td>1.0</td>\n",
       "      <td>3.0</td>\n",
       "      <td>3.0</td>\n",
       "      <td>3.0</td>\n",
       "      <td>3.0</td>\n",
       "      <td>3.0</td>\n",
       "      <td>1.0</td>\n",
       "      <td>4.0</td>\n",
       "      <td>4.0</td>\n",
       "      <td>...</td>\n",
       "      <td>4.0</td>\n",
       "      <td>5.0</td>\n",
       "      <td>4.0</td>\n",
       "      <td>3.0</td>\n",
       "      <td>4.0</td>\n",
       "      <td>2.0</td>\n",
       "      <td>5.0</td>\n",
       "      <td>3.0</td>\n",
       "      <td>NaN</td>\n",
       "      <td>5.0</td>\n",
       "    </tr>\n",
       "    <tr>\n",
       "      <th>7</th>\n",
       "      <td>10</td>\n",
       "      <td>1.0</td>\n",
       "      <td>NaN</td>\n",
       "      <td>2.0</td>\n",
       "      <td>2.0</td>\n",
       "      <td>NaN</td>\n",
       "      <td>NaN</td>\n",
       "      <td>NaN</td>\n",
       "      <td>NaN</td>\n",
       "      <td>1.0</td>\n",
       "      <td>...</td>\n",
       "      <td>1.0</td>\n",
       "      <td>4.0</td>\n",
       "      <td>1.0</td>\n",
       "      <td>NaN</td>\n",
       "      <td>1.0</td>\n",
       "      <td>1.0</td>\n",
       "      <td>1.0</td>\n",
       "      <td>2.0</td>\n",
       "      <td>NaN</td>\n",
       "      <td>4.0</td>\n",
       "    </tr>\n",
       "    <tr>\n",
       "      <th>8</th>\n",
       "      <td>11</td>\n",
       "      <td>1.0</td>\n",
       "      <td>4.0</td>\n",
       "      <td>NaN</td>\n",
       "      <td>NaN</td>\n",
       "      <td>NaN</td>\n",
       "      <td>4.0</td>\n",
       "      <td>4.0</td>\n",
       "      <td>NaN</td>\n",
       "      <td>2.0</td>\n",
       "      <td>...</td>\n",
       "      <td>4.0</td>\n",
       "      <td>3.0</td>\n",
       "      <td>4.0</td>\n",
       "      <td>4.0</td>\n",
       "      <td>3.0</td>\n",
       "      <td>2.0</td>\n",
       "      <td>5.0</td>\n",
       "      <td>4.0</td>\n",
       "      <td>NaN</td>\n",
       "      <td>3.0</td>\n",
       "    </tr>\n",
       "    <tr>\n",
       "      <th>9</th>\n",
       "      <td>1</td>\n",
       "      <td>NaN</td>\n",
       "      <td>NaN</td>\n",
       "      <td>NaN</td>\n",
       "      <td>NaN</td>\n",
       "      <td>NaN</td>\n",
       "      <td>NaN</td>\n",
       "      <td>NaN</td>\n",
       "      <td>NaN</td>\n",
       "      <td>NaN</td>\n",
       "      <td>...</td>\n",
       "      <td>NaN</td>\n",
       "      <td>NaN</td>\n",
       "      <td>NaN</td>\n",
       "      <td>NaN</td>\n",
       "      <td>NaN</td>\n",
       "      <td>NaN</td>\n",
       "      <td>NaN</td>\n",
       "      <td>NaN</td>\n",
       "      <td>NaN</td>\n",
       "      <td>NaN</td>\n",
       "    </tr>\n",
       "  </tbody>\n",
       "</table>\n",
       "<p>10 rows × 51 columns</p>\n",
       "</div>"
      ],
      "text/plain": [
       "   rasgos  Mapudungun  Quechua Ancash  Quechua de Cajamarca  \\\n",
       "0       2         1.0             1.0                   1.0   \n",
       "1       3         1.0             1.0                   1.0   \n",
       "2       4         2.0             2.0                   2.0   \n",
       "3       5         1.0             NaN                   1.0   \n",
       "4       7         1.0             1.0                   1.0   \n",
       "5       8         1.0             1.0                   1.0   \n",
       "6       9         1.0             3.0                   3.0   \n",
       "7      10         1.0             NaN                   2.0   \n",
       "8      11         1.0             4.0                   NaN   \n",
       "9       1         NaN             NaN                   NaN   \n",
       "\n",
       "   Quechua Ecuatoriano  Quechua Ayacuchano  Aymara Sureño  Jaqaru  Chipaya  \\\n",
       "0                  NaN                 1.0            NaN     NaN      NaN   \n",
       "1                  1.0                 1.0            1.0     1.0      1.0   \n",
       "2                  NaN                 NaN            2.0     2.0      2.0   \n",
       "3                  NaN                 1.0            1.0     1.0      NaN   \n",
       "4                  1.0                 1.0            NaN     NaN      NaN   \n",
       "5                  NaN                 1.0            1.0     1.0      1.0   \n",
       "6                  3.0                 3.0            3.0     1.0      4.0   \n",
       "7                  2.0                 NaN            NaN     NaN      NaN   \n",
       "8                  NaN                 NaN            4.0     4.0      NaN   \n",
       "9                  NaN                 NaN            NaN     NaN      NaN   \n",
       "\n",
       "   Uchumataqu  ...  Sanuma  Hup  kulina  bora  Baure  Yurakare  Movima  \\\n",
       "0         NaN  ...     NaN  NaN     NaN   NaN    NaN       NaN     1.0   \n",
       "1         1.0  ...     NaN  1.0     3.0   NaN    NaN       NaN     NaN   \n",
       "2         NaN  ...     NaN  NaN     NaN   NaN    3.0       NaN     NaN   \n",
       "3         NaN  ...     NaN  NaN     NaN   NaN    NaN       NaN     NaN   \n",
       "4         1.0  ...     1.0  NaN     2.0   5.0    4.0       1.0     4.0   \n",
       "5         1.0  ...     6.0  3.0     3.0   6.0    NaN       1.0     5.0   \n",
       "6         4.0  ...     4.0  5.0     4.0   3.0    4.0       2.0     5.0   \n",
       "7         1.0  ...     1.0  4.0     1.0   NaN    1.0       1.0     1.0   \n",
       "8         2.0  ...     4.0  3.0     4.0   4.0    3.0       2.0     5.0   \n",
       "9         NaN  ...     NaN  NaN     NaN   NaN    NaN       NaN     NaN   \n",
       "\n",
       "   Harakmbut  Sabané  aguarana wampis  \n",
       "0        NaN     NaN              1.0  \n",
       "1        1.0     NaN              1.0  \n",
       "2        2.0     NaN              NaN  \n",
       "3        NaN     NaN              NaN  \n",
       "4        2.0     NaN              1.0  \n",
       "5        1.0     2.0              1.0  \n",
       "6        3.0     NaN              5.0  \n",
       "7        2.0     NaN              4.0  \n",
       "8        4.0     NaN              3.0  \n",
       "9        NaN     NaN              NaN  \n",
       "\n",
       "[10 rows x 51 columns]"
      ]
     },
     "execution_count": 33,
     "metadata": {},
     "output_type": "execute_result"
    }
   ],
   "source": [
    "dominio_3"
   ]
  },
  {
   "cell_type": "markdown",
   "metadata": {},
   "source": [
    "### D. Distancias entre lenguas"
   ]
  },
  {
   "cell_type": "code",
   "execution_count": 34,
   "metadata": {},
   "outputs": [],
   "source": [
    "## miremos el dominio 3 (estructura argumental)\n",
    "\n",
    "dom_estructura_argumental = read_lenguas_andinas('TablaDominios.csv','LenguasAndinas.csv',3)"
   ]
  },
  {
   "cell_type": "code",
   "execution_count": 35,
   "metadata": {},
   "outputs": [],
   "source": [
    "## extraemos los diccionarios asociados a las lenguas\n",
    "\n",
    "diccionarios = list(dom_estructura_argumental.values())"
   ]
  },
  {
   "cell_type": "code",
   "execution_count": 36,
   "metadata": {},
   "outputs": [
    {
     "data": {
      "text/plain": [
       "[{2: 1, 3: 1, 4: 2, 5: 1, 7: 1, 8: 1, 9: 1, 10: 1, 11: 1},\n",
       " {2: 1, 3: 1, 4: 2, 7: 1, 8: 1, 9: 3, 11: 4},\n",
       " {2: 1, 3: 1, 4: 2, 5: 1, 7: 1, 8: 1, 9: 3, 10: 2},\n",
       " {3: 1, 7: 1, 9: 3, 10: 2},\n",
       " {2: 1, 3: 1, 5: 1, 7: 1, 8: 1, 9: 3},\n",
       " {3: 1, 4: 2, 5: 1, 8: 1, 9: 3, 11: 4},\n",
       " {3: 1, 4: 2, 5: 1, 8: 1, 9: 1, 11: 4},\n",
       " {3: 1, 4: 2, 8: 1, 9: 4},\n",
       " {3: 1, 7: 1, 8: 1, 9: 4, 10: 1, 11: 2},\n",
       " {3: 1, 4: 2, 8: 2, 9: 2, 10: 1, 11: 2},\n",
       " {3: 2, 4: 3, 7: 1, 8: 5, 9: 4, 10: 1, 11: 4},\n",
       " {3: 1, 7: 2, 8: 2, 9: 4},\n",
       " {3: 1, 4: 2, 7: 1, 8: 1, 9: 4, 10: 1, 11: 2},\n",
       " {1: 3, 3: 1, 4: 2, 7: 1, 8: 1, 9: 4, 10: 1, 11: 4},\n",
       " {3: 1, 4: 3, 7: 2, 8: 2, 9: 4, 10: 1},\n",
       " {3: 1, 4: 1, 7: 2, 8: 2, 10: 1, 11: 3},\n",
       " {3: 1, 4: 2, 7: 2, 8: 2, 9: 2, 10: 1, 11: 2},\n",
       " {3: 1, 4: 2, 7: 2, 8: 2, 9: 4, 10: 1, 11: 5},\n",
       " {3: 1, 7: 2, 8: 2, 9: 4, 10: 1, 11: 3},\n",
       " {5: 1, 7: 2, 8: 2, 9: 4, 10: 1, 11: 2},\n",
       " {3: 3, 7: 1, 8: 3, 9: 4, 10: 1, 11: 5},\n",
       " {7: 2, 8: 2, 9: 2, 10: 3, 11: 2},\n",
       " {3: 1, 7: 1, 8: 1, 9: 5, 10: 4, 11: 3},\n",
       " {8: 1},\n",
       " {3: 2, 8: 6, 9: 3, 10: 2, 11: 4},\n",
       " {4: 2, 7: 1, 8: 2, 9: 1},\n",
       " {7: 2, 8: 2},\n",
       " {3: 1, 7: 1, 8: 1, 9: 4, 10: 1, 11: 5},\n",
       " {3: 1, 5: 1, 7: 1, 8: 1, 9: 3, 10: 2, 11: 4},\n",
       " {2: 1, 3: 1, 8: 1, 9: 1, 10: 1, 11: 1},\n",
       " {3: 1, 7: 1, 8: 1, 9: 4, 10: 1, 11: 1},\n",
       " {3: 1, 7: 1, 9: 2, 10: 1, 11: 2},\n",
       " {3: 1, 7: 1, 8: 1, 9: 3, 10: 2, 11: 4},\n",
       " {3: 1, 8: 1},\n",
       " {3: 3, 7: 4, 8: 5, 9: 4},\n",
       " {7: 2, 8: 2},\n",
       " {4: 3, 7: 1, 8: 1, 9: 4, 10: 1, 11: 5},\n",
       " {3: 2, 7: 1, 8: 1, 9: 3, 10: 2, 11: 4},\n",
       " {7: 1, 8: 1, 9: 4, 10: 1, 11: 5},\n",
       " {7: 3, 8: 3, 9: 4, 10: 1, 11: 5},\n",
       " {7: 1, 8: 6, 9: 4, 10: 1, 11: 4},\n",
       " {3: 1, 8: 3, 9: 5, 10: 4, 11: 3},\n",
       " {3: 3, 7: 2, 8: 3, 9: 4, 10: 1, 11: 4},\n",
       " {7: 5, 8: 6, 9: 3, 11: 4},\n",
       " {4: 3, 7: 4, 9: 4, 10: 1, 11: 3},\n",
       " {7: 1, 8: 1, 9: 2, 10: 1, 11: 2},\n",
       " {2: 1, 7: 4, 8: 5, 9: 5, 10: 1, 11: 5},\n",
       " {3: 1, 4: 2, 7: 2, 8: 1, 9: 3, 10: 2, 11: 4},\n",
       " {8: 2},\n",
       " {2: 1, 3: 1, 7: 1, 8: 1, 9: 5, 10: 4, 11: 3}]"
      ]
     },
     "execution_count": 36,
     "metadata": {},
     "output_type": "execute_result"
    }
   ],
   "source": [
    "diccionarios"
   ]
  },
  {
   "cell_type": "code",
   "execution_count": 37,
   "metadata": {},
   "outputs": [],
   "source": [
    "## nos quedamos con los keys de los diccionarios de largo mayor a 6\n",
    "\n",
    "rasgos_comunes = [list(item.keys()) for item in diccionarios if len(item)>6]"
   ]
  },
  {
   "cell_type": "code",
   "execution_count": 38,
   "metadata": {},
   "outputs": [
    {
     "data": {
      "text/plain": [
       "[[2, 3, 4, 5, 7, 8, 9, 10, 11],\n",
       " [2, 3, 4, 7, 8, 9, 11],\n",
       " [2, 3, 4, 5, 7, 8, 9, 10],\n",
       " [3, 4, 7, 8, 9, 10, 11],\n",
       " [3, 4, 7, 8, 9, 10, 11],\n",
       " [1, 3, 4, 7, 8, 9, 10, 11],\n",
       " [3, 4, 7, 8, 9, 10, 11],\n",
       " [3, 4, 7, 8, 9, 10, 11],\n",
       " [3, 5, 7, 8, 9, 10, 11],\n",
       " [3, 4, 7, 8, 9, 10, 11],\n",
       " [2, 3, 7, 8, 9, 10, 11]]"
      ]
     },
     "execution_count": 38,
     "metadata": {},
     "output_type": "execute_result"
    }
   ],
   "source": [
    "rasgos_comunes"
   ]
  },
  {
   "cell_type": "code",
   "execution_count": 39,
   "metadata": {},
   "outputs": [],
   "source": [
    "## intersectamos todos los rasgos: manera poco transparente de hacer esto \n",
    "\n",
    "rasgos_comunes = set(rasgos_comunes[0]).intersection(*rasgos_comunes)"
   ]
  },
  {
   "cell_type": "code",
   "execution_count": 40,
   "metadata": {},
   "outputs": [
    {
     "data": {
      "text/plain": [
       "{3, 7, 8, 9}"
      ]
     },
     "execution_count": 40,
     "metadata": {},
     "output_type": "execute_result"
    }
   ],
   "source": [
    "rasgos_comunes"
   ]
  },
  {
   "cell_type": "code",
   "execution_count": 41,
   "metadata": {},
   "outputs": [],
   "source": [
    "## manera un poco más larga: código más largo NO implica código más lento!!!\n",
    "\n",
    "## nos quedamos con los keys de los diccionarios de largo mayor a 6\n",
    "\n",
    "rasgos_comunes = [list(item.keys()) for item in diccionarios if len(item)>6]\n",
    "\n",
    "## definimos una lista de rasgos en común\n",
    "rasgos_comunes_list = []\n",
    "## tomamos los rasgos de L0 como iniciales\n",
    "L0 = rasgos_comunes[0]\n",
    "\n",
    "## recorremos cada rasgo de L0\n",
    "for f in L0:\n",
    "    ## la idea es que si f está en todos los elementos de rasgos_comunes[1:], entonces n tiene que ser igual a \n",
    "    ## len(rasgos_comunes[1:])\n",
    "    n=0\n",
    "    for L in rasgos_comunes[1:]:\n",
    "        if f in L:\n",
    "            n+=1\n",
    "    ## condición afirmativa para incluir un rasgo!!!\n",
    "    if n==len(rasgos_comunes[1:]):\n",
    "        rasgos_comunes_list+=[f]"
   ]
  },
  {
   "cell_type": "code",
   "execution_count": 42,
   "metadata": {},
   "outputs": [],
   "source": [
    "rasgos_comunes = set(rasgos_comunes_list)"
   ]
  },
  {
   "cell_type": "code",
   "execution_count": 43,
   "metadata": {},
   "outputs": [
    {
     "data": {
      "text/plain": [
       "{3, 7, 8, 9}"
      ]
     },
     "execution_count": 43,
     "metadata": {},
     "output_type": "execute_result"
    }
   ],
   "source": [
    "rasgos_comunes"
   ]
  },
  {
   "cell_type": "code",
   "execution_count": 44,
   "metadata": {},
   "outputs": [],
   "source": [
    "## restringimos los diccionarios\n",
    "\n",
    "diccionarios_restringidos = {lengua:{key:dom_estructura_argumental[lengua][key] for key in rasgos_comunes} for lengua in dom_estructura_argumental.keys() if len(dom_estructura_argumental[lengua])>6}"
   ]
  },
  {
   "cell_type": "code",
   "execution_count": 45,
   "metadata": {},
   "outputs": [
    {
     "data": {
      "text/plain": [
       "{'Mapudungun': {8: 1, 9: 1, 3: 1, 7: 1},\n",
       " 'Quechua Ancash': {8: 1, 9: 3, 3: 1, 7: 1},\n",
       " 'Quechua de Cajamarca': {8: 1, 9: 3, 3: 1, 7: 1},\n",
       " 'Mochica': {8: 5, 9: 4, 3: 2, 7: 1},\n",
       " 'Millcayac': {8: 1, 9: 4, 3: 1, 7: 1},\n",
       " 'Allentiac': {8: 1, 9: 4, 3: 1, 7: 1},\n",
       " 'Pilagá': {8: 2, 9: 2, 3: 1, 7: 2},\n",
       " 'Wichí': {8: 2, 9: 4, 3: 1, 7: 2},\n",
       " 'Quechua de Yauyos Sur': {8: 1, 9: 3, 3: 1, 7: 1},\n",
       " 'Harakmbut': {8: 1, 9: 3, 3: 1, 7: 2},\n",
       " 'aguarana wampis': {8: 1, 9: 5, 3: 1, 7: 1}}"
      ]
     },
     "execution_count": 45,
     "metadata": {},
     "output_type": "execute_result"
    }
   ],
   "source": [
    "diccionarios_restringidos"
   ]
  },
  {
   "cell_type": "code",
   "execution_count": 46,
   "metadata": {},
   "outputs": [],
   "source": [
    "## extraemos solo los values, vectores de rasgos!!!\n",
    "\n",
    "diccionarios_restringidos = {lengua:list(diccionarios_restringidos[lengua].values()) for lengua in diccionarios_restringidos.keys()}"
   ]
  },
  {
   "cell_type": "code",
   "execution_count": 47,
   "metadata": {},
   "outputs": [
    {
     "data": {
      "text/plain": [
       "{'Mapudungun': [1, 1, 1, 1],\n",
       " 'Quechua Ancash': [1, 3, 1, 1],\n",
       " 'Quechua de Cajamarca': [1, 3, 1, 1],\n",
       " 'Mochica': [5, 4, 2, 1],\n",
       " 'Millcayac': [1, 4, 1, 1],\n",
       " 'Allentiac': [1, 4, 1, 1],\n",
       " 'Pilagá': [2, 2, 1, 2],\n",
       " 'Wichí': [2, 4, 1, 2],\n",
       " 'Quechua de Yauyos Sur': [1, 3, 1, 1],\n",
       " 'Harakmbut': [1, 3, 1, 2],\n",
       " 'aguarana wampis': [1, 5, 1, 1]}"
      ]
     },
     "execution_count": 47,
     "metadata": {},
     "output_type": "execute_result"
    }
   ],
   "source": [
    "diccionarios_restringidos"
   ]
  },
  {
   "cell_type": "code",
   "execution_count": 48,
   "metadata": {},
   "outputs": [],
   "source": [
    "## estandarizamos los datos\n",
    "\n",
    "from sklearn import preprocessing\n",
    "\n",
    "vectors_sta = preprocessing.scale(list(diccionarios_restringidos.values()))"
   ]
  },
  {
   "cell_type": "code",
   "execution_count": 49,
   "metadata": {},
   "outputs": [
    {
     "data": {
      "text/plain": [
       "array([[-0.47140452, -2.15967106, -0.31622777, -0.61237244],\n",
       "       [-0.47140452, -0.25916053, -0.31622777, -0.61237244],\n",
       "       [-0.47140452, -0.25916053, -0.31622777, -0.61237244],\n",
       "       [ 2.98556197,  0.69109474,  3.16227766, -0.61237244],\n",
       "       [-0.47140452,  0.69109474, -0.31622777, -0.61237244],\n",
       "       [-0.47140452,  0.69109474, -0.31622777, -0.61237244],\n",
       "       [ 0.3928371 , -1.2094158 , -0.31622777,  1.63299316],\n",
       "       [ 0.3928371 ,  0.69109474, -0.31622777,  1.63299316],\n",
       "       [-0.47140452, -0.25916053, -0.31622777, -0.61237244],\n",
       "       [-0.47140452, -0.25916053, -0.31622777,  1.63299316],\n",
       "       [-0.47140452,  1.64135001, -0.31622777, -0.61237244]])"
      ]
     },
     "execution_count": 49,
     "metadata": {},
     "output_type": "execute_result"
    }
   ],
   "source": [
    "vectors_sta"
   ]
  },
  {
   "cell_type": "code",
   "execution_count": 50,
   "metadata": {},
   "outputs": [],
   "source": [
    "diccionarios_restringidos = dict(zip(diccionarios_restringidos.keys(),vectors_sta))"
   ]
  },
  {
   "cell_type": "code",
   "execution_count": 51,
   "metadata": {},
   "outputs": [
    {
     "data": {
      "text/plain": [
       "{'Mapudungun': array([-0.47140452, -2.15967106, -0.31622777, -0.61237244]),\n",
       " 'Quechua Ancash': array([-0.47140452, -0.25916053, -0.31622777, -0.61237244]),\n",
       " 'Quechua de Cajamarca': array([-0.47140452, -0.25916053, -0.31622777, -0.61237244]),\n",
       " 'Mochica': array([ 2.98556197,  0.69109474,  3.16227766, -0.61237244]),\n",
       " 'Millcayac': array([-0.47140452,  0.69109474, -0.31622777, -0.61237244]),\n",
       " 'Allentiac': array([-0.47140452,  0.69109474, -0.31622777, -0.61237244]),\n",
       " 'Pilagá': array([ 0.3928371 , -1.2094158 , -0.31622777,  1.63299316]),\n",
       " 'Wichí': array([ 0.3928371 ,  0.69109474, -0.31622777,  1.63299316]),\n",
       " 'Quechua de Yauyos Sur': array([-0.47140452, -0.25916053, -0.31622777, -0.61237244]),\n",
       " 'Harakmbut': array([-0.47140452, -0.25916053, -0.31622777,  1.63299316]),\n",
       " 'aguarana wampis': array([-0.47140452,  1.64135001, -0.31622777, -0.61237244])}"
      ]
     },
     "execution_count": 51,
     "metadata": {},
     "output_type": "execute_result"
    }
   ],
   "source": [
    "diccionarios_restringidos"
   ]
  },
  {
   "cell_type": "code",
   "execution_count": 52,
   "metadata": {},
   "outputs": [],
   "source": [
    "## juntemos todo en una función que reciba un diccionario de rasgos y entregue diccionarios restringidos\n",
    "## por rasgos en común :)\n",
    "## D es el diccionario que entrega la función read_lenguas_andinas\n",
    "from sklearn import preprocessing\n",
    "\n",
    "def diccionario_rasgos_comunes(D,num_rasgos,estandarizar):\n",
    "    \n",
    "    ## extraemos los diccionarios de rasgos\n",
    "    diccionarios = list(D.values())\n",
    "    ## buscamos los rasgos en común\n",
    "    rasgos_comunes = [list(item.keys()) for item in diccionarios if len(item)>num_rasgos]\n",
    "    ## intersectamos todos los conjuntos de rasgos sujetos a la condición len(item)>num_rasgos\n",
    "    rasgos_comunes = set(rasgos_comunes[0]).intersection(*rasgos_comunes)\n",
    "    ## restringimos D\n",
    "    diccionarios_restringidos = {lengua:{key:D[lengua][key] for key in rasgos_comunes} for lengua in D.keys() if len(D[lengua])>num_rasgos}\n",
    "    ## nos quedamos solo con los values\n",
    "    diccionarios_restringidos = {lengua:list(diccionarios_restringidos[lengua].values()) for lengua in diccionarios_restringidos.keys()}\n",
    "    ## estandarizamos if estandarizar==True\n",
    "    ## ponemos un try-except! dentro de \"try\" ponemos algo que queremos que se ejecute aunque entregue\n",
    "    ## un error. Dentro de \"except\", ponemos una solución al error. En este caso, más rasgos!!!\n",
    "    try:\n",
    "        if estandarizar==True:\n",
    "            vectors_sta = preprocessing.scale(list(diccionarios_restringidos.values()))\n",
    "        else:\n",
    "            return diccionarios_restringidos\n",
    "    except ValueError:\n",
    "        return print('incrementa el número de rasgos!!!')\n",
    "    ## de la forma (un poco más) sofisticada\n",
    "    diccionarios_restringidos = dict(zip(diccionarios_restringidos.keys(),vectors_sta))\n",
    "    return diccionarios_restringidos"
   ]
  },
  {
   "cell_type": "code",
   "execution_count": 53,
   "metadata": {},
   "outputs": [
    {
     "data": {
      "text/plain": [
       "{'Mapudungun': [1, 1, 1, 1],\n",
       " 'Quechua Ancash': [1, 3, 1, 1],\n",
       " 'Quechua de Cajamarca': [1, 3, 1, 1],\n",
       " 'Mochica': [5, 4, 2, 1],\n",
       " 'Millcayac': [1, 4, 1, 1],\n",
       " 'Allentiac': [1, 4, 1, 1],\n",
       " 'Pilagá': [2, 2, 1, 2],\n",
       " 'Wichí': [2, 4, 1, 2],\n",
       " 'Quechua de Yauyos Sur': [1, 3, 1, 1],\n",
       " 'Harakmbut': [1, 3, 1, 2],\n",
       " 'aguarana wampis': [1, 5, 1, 1]}"
      ]
     },
     "execution_count": 53,
     "metadata": {},
     "output_type": "execute_result"
    }
   ],
   "source": [
    "diccionario_rasgos_comunes(dom_estructura_argumental,6,False)"
   ]
  },
  {
   "cell_type": "code",
   "execution_count": 54,
   "metadata": {},
   "outputs": [],
   "source": [
    "## distancias!!!\n",
    "\n",
    "from scipy import spatial\n",
    "\n",
    "distances = {lengua:{lengualengua:spatial.distance.cosine(diccionarios_restringidos[lengua],diccionarios_restringidos[lengualengua]) for lengualengua in diccionarios_restringidos.keys()} for lengua in diccionarios_restringidos.keys()}"
   ]
  },
  {
   "cell_type": "code",
   "execution_count": 55,
   "metadata": {},
   "outputs": [
    {
     "data": {
      "text/plain": [
       "{'Mapudungun': {'Mapudungun': 0.0,\n",
       "  'Quechua Ancash': 0.3791119725783013,\n",
       "  'Quechua de Cajamarca': 0.3791119725783013,\n",
       "  'Mochica': 1.3424141041163087,\n",
       "  'Millcayac': 1.3168923690360472,\n",
       "  'Allentiac': 1.3168923690360472,\n",
       "  'Pilagá': 0.6850721351968863,\n",
       "  'Wichí': 1.6038749336110738,\n",
       "  'Quechua de Yauyos Sur': 0.3791119725783013,\n",
       "  'Harakmbut': 1.0291704465201388,\n",
       "  'aguarana wampis': 1.6678097540693155},\n",
       " 'Quechua Ancash': {'Mapudungun': 0.3791119725783013,\n",
       "  'Quechua Ancash': 0.0,\n",
       "  'Quechua de Cajamarca': 0.0,\n",
       "  'Mochica': 1.5689463226328801,\n",
       "  'Millcayac': 0.45325640143300594,\n",
       "  'Allentiac': 0.45325640143300594,\n",
       "  'Pilagá': 1.4216016951278718,\n",
       "  'Wichí': 1.7844045610653032,\n",
       "  'Quechua de Yauyos Sur': 0.0,\n",
       "  'Harakmbut': 1.3995117439008495,\n",
       "  'aguarana wampis': 0.831153770069728},\n",
       " 'Quechua de Cajamarca': {'Mapudungun': 0.3791119725783013,\n",
       "  'Quechua Ancash': 0.0,\n",
       "  'Quechua de Cajamarca': 0.0,\n",
       "  'Mochica': 1.5689463226328801,\n",
       "  'Millcayac': 0.45325640143300594,\n",
       "  'Allentiac': 0.45325640143300594,\n",
       "  'Pilagá': 1.4216016951278718,\n",
       "  'Wichí': 1.7844045610653032,\n",
       "  'Quechua de Yauyos Sur': 0.0,\n",
       "  'Harakmbut': 1.3995117439008495,\n",
       "  'aguarana wampis': 0.831153770069728},\n",
       " 'Mochica': {'Mapudungun': 1.3424141041163087,\n",
       "  'Quechua Ancash': 1.5689463226328801,\n",
       "  'Quechua de Cajamarca': 1.5689463226328801,\n",
       "  'Mochica': 0.0,\n",
       "  'Millcayac': 1.3226439126144203,\n",
       "  'Allentiac': 1.3226439126144203,\n",
       "  'Pilagá': 1.178651532661095,\n",
       "  'Wichí': 1.04264773803119,\n",
       "  'Quechua de Yauyos Sur': 1.5689463226328801,\n",
       "  'Harakmbut': 1.4614560261099574,\n",
       "  'aguarana wampis': 1.1096915118041943},\n",
       " 'Millcayac': {'Mapudungun': 1.3168923690360472,\n",
       "  'Quechua Ancash': 0.45325640143300594,\n",
       "  'Quechua de Cajamarca': 0.45325640143300594,\n",
       "  'Mochica': 1.3226439126144203,\n",
       "  'Millcayac': 0.0,\n",
       "  'Allentiac': 0.0,\n",
       "  'Pilagá': 1.8464890030659036,\n",
       "  'Wichí': 1.3040607462285985,\n",
       "  'Quechua de Yauyos Sur': 0.45325640143300594,\n",
       "  'Harakmbut': 1.4522227642574175,\n",
       "  'aguarana wampis': 0.08240593212015912},\n",
       " 'Allentiac': {'Mapudungun': 1.3168923690360472,\n",
       "  'Quechua Ancash': 0.45325640143300594,\n",
       "  'Quechua de Cajamarca': 0.45325640143300594,\n",
       "  'Mochica': 1.3226439126144203,\n",
       "  'Millcayac': 0.0,\n",
       "  'Allentiac': 0.0,\n",
       "  'Pilagá': 1.8464890030659036,\n",
       "  'Wichí': 1.3040607462285985,\n",
       "  'Quechua de Yauyos Sur': 0.45325640143300594,\n",
       "  'Harakmbut': 1.4522227642574175,\n",
       "  'aguarana wampis': 0.08240593212015912},\n",
       " 'Pilagá': {'Mapudungun': 0.6850721351968863,\n",
       "  'Quechua Ancash': 1.4216016951278718,\n",
       "  'Quechua de Cajamarca': 1.4216016951278718,\n",
       "  'Mochica': 1.178651532661095,\n",
       "  'Millcayac': 1.8464890030659036,\n",
       "  'Allentiac': 1.8464890030659036,\n",
       "  'Pilagá': 0.0,\n",
       "  'Wichí': 0.45977875867545226,\n",
       "  'Quechua de Yauyos Sur': 1.4216016951278718,\n",
       "  'Harakmbut': 0.20907348934400116,\n",
       "  'aguarana wampis': 1.7962986071875346},\n",
       " 'Wichí': {'Mapudungun': 1.6038749336110738,\n",
       "  'Quechua Ancash': 1.7844045610653032,\n",
       "  'Quechua de Cajamarca': 1.7844045610653032,\n",
       "  'Mochica': 1.04264773803119,\n",
       "  'Millcayac': 1.3040607462285985,\n",
       "  'Allentiac': 1.3040607462285985,\n",
       "  'Pilagá': 0.45977875867545226,\n",
       "  'Wichí': 0.0,\n",
       "  'Quechua de Yauyos Sur': 1.7844045610653032,\n",
       "  'Harakmbut': 0.25456339411547013,\n",
       "  'aguarana wampis': 0.9855245138764972},\n",
       " 'Quechua de Yauyos Sur': {'Mapudungun': 0.3791119725783013,\n",
       "  'Quechua Ancash': 0.0,\n",
       "  'Quechua de Cajamarca': 0.0,\n",
       "  'Mochica': 1.5689463226328801,\n",
       "  'Millcayac': 0.45325640143300594,\n",
       "  'Allentiac': 0.45325640143300594,\n",
       "  'Pilagá': 1.4216016951278718,\n",
       "  'Wichí': 1.7844045610653032,\n",
       "  'Quechua de Yauyos Sur': 0.0,\n",
       "  'Harakmbut': 1.3995117439008495,\n",
       "  'aguarana wampis': 0.831153770069728},\n",
       " 'Harakmbut': {'Mapudungun': 1.0291704465201388,\n",
       "  'Quechua Ancash': 1.3995117439008495,\n",
       "  'Quechua de Cajamarca': 1.3995117439008495,\n",
       "  'Mochica': 1.4614560261099574,\n",
       "  'Millcayac': 1.4522227642574175,\n",
       "  'Allentiac': 1.4522227642574175,\n",
       "  'Pilagá': 0.20907348934400116,\n",
       "  'Wichí': 0.25456339411547013,\n",
       "  'Quechua de Yauyos Sur': 1.3995117439008495,\n",
       "  'Harakmbut': 0.0,\n",
       "  'aguarana wampis': 1.3426687075711363},\n",
       " 'aguarana wampis': {'Mapudungun': 1.6678097540693155,\n",
       "  'Quechua Ancash': 0.831153770069728,\n",
       "  'Quechua de Cajamarca': 0.831153770069728,\n",
       "  'Mochica': 1.1096915118041943,\n",
       "  'Millcayac': 0.08240593212015912,\n",
       "  'Allentiac': 0.08240593212015912,\n",
       "  'Pilagá': 1.7962986071875346,\n",
       "  'Wichí': 0.9855245138764972,\n",
       "  'Quechua de Yauyos Sur': 0.831153770069728,\n",
       "  'Harakmbut': 1.3426687075711363,\n",
       "  'aguarana wampis': 0.0}}"
      ]
     },
     "execution_count": 55,
     "metadata": {},
     "output_type": "execute_result"
    }
   ],
   "source": [
    "distances"
   ]
  },
  {
   "cell_type": "code",
   "execution_count": 56,
   "metadata": {},
   "outputs": [],
   "source": [
    "## otra vez una función: distancias!!!\n",
    "from scipy import spatial\n",
    "\n",
    "def diccionario_distancias(D,num_rasgos,estandarizar,distancia):\n",
    "    \n",
    "    ## D es el diccionario que entrega la función read_lenguas_andinas\n",
    "    ## usamos la función diccionario_rasgos_comunes\n",
    "    diccionarios_restringidos = diccionario_rasgos_comunes(D,num_rasgos,estandarizar)\n",
    "    ## calculamos las distancias :)\n",
    "    ## https://docs.scipy.org/doc/scipy/reference/spatial.distance.html <-- más distancias!\n",
    "    if distancia=='cosine':\n",
    "        distances = {lengua:{lengualengua:spatial.distance.cosine(diccionarios_restringidos[lengua],diccionarios_restringidos[lengualengua]) for lengualengua in diccionarios_restringidos.keys()} for lengua in diccionarios_restringidos.keys()}\n",
    "    if distancia=='hamming':\n",
    "        distances = {lengua:{lengualengua:spatial.distance.hamming(diccionarios_restringidos[lengua],diccionarios_restringidos[lengualengua]) for lengualengua in diccionarios_restringidos.keys()} for lengua in diccionarios_restringidos.keys()}\n",
    "    if distancia=='euclidean':\n",
    "        distances = {lengua:{lengualengua:spatial.distance.euclidean(diccionarios_restringidos[lengua],diccionarios_restringidos[lengualengua]) for lengualengua in diccionarios_restringidos.keys()} for lengua in diccionarios_restringidos.keys()}\n",
    "    return distances"
   ]
  },
  {
   "cell_type": "code",
   "execution_count": 57,
   "metadata": {},
   "outputs": [],
   "source": [
    "D_distancias = diccionario_distancias(dom_estructura_argumental,6,True,'cosine')"
   ]
  },
  {
   "cell_type": "code",
   "execution_count": 58,
   "metadata": {},
   "outputs": [
    {
     "data": {
      "text/plain": [
       "{'Mapudungun': {'Mapudungun': 0.0,\n",
       "  'Quechua Ancash': 0.3791119725783013,\n",
       "  'Quechua de Cajamarca': 0.3791119725783013,\n",
       "  'Mochica': 1.3424141041163087,\n",
       "  'Millcayac': 1.3168923690360472,\n",
       "  'Allentiac': 1.3168923690360472,\n",
       "  'Pilagá': 0.6850721351968863,\n",
       "  'Wichí': 1.6038749336110738,\n",
       "  'Quechua de Yauyos Sur': 0.3791119725783013,\n",
       "  'Harakmbut': 1.0291704465201388,\n",
       "  'aguarana wampis': 1.6678097540693155},\n",
       " 'Quechua Ancash': {'Mapudungun': 0.3791119725783013,\n",
       "  'Quechua Ancash': 0.0,\n",
       "  'Quechua de Cajamarca': 0.0,\n",
       "  'Mochica': 1.5689463226328801,\n",
       "  'Millcayac': 0.45325640143300594,\n",
       "  'Allentiac': 0.45325640143300594,\n",
       "  'Pilagá': 1.4216016951278718,\n",
       "  'Wichí': 1.7844045610653032,\n",
       "  'Quechua de Yauyos Sur': 0.0,\n",
       "  'Harakmbut': 1.3995117439008495,\n",
       "  'aguarana wampis': 0.831153770069728},\n",
       " 'Quechua de Cajamarca': {'Mapudungun': 0.3791119725783013,\n",
       "  'Quechua Ancash': 0.0,\n",
       "  'Quechua de Cajamarca': 0.0,\n",
       "  'Mochica': 1.5689463226328801,\n",
       "  'Millcayac': 0.45325640143300594,\n",
       "  'Allentiac': 0.45325640143300594,\n",
       "  'Pilagá': 1.4216016951278718,\n",
       "  'Wichí': 1.7844045610653032,\n",
       "  'Quechua de Yauyos Sur': 0.0,\n",
       "  'Harakmbut': 1.3995117439008495,\n",
       "  'aguarana wampis': 0.831153770069728},\n",
       " 'Mochica': {'Mapudungun': 1.3424141041163087,\n",
       "  'Quechua Ancash': 1.5689463226328801,\n",
       "  'Quechua de Cajamarca': 1.5689463226328801,\n",
       "  'Mochica': 0.0,\n",
       "  'Millcayac': 1.3226439126144203,\n",
       "  'Allentiac': 1.3226439126144203,\n",
       "  'Pilagá': 1.178651532661095,\n",
       "  'Wichí': 1.04264773803119,\n",
       "  'Quechua de Yauyos Sur': 1.5689463226328801,\n",
       "  'Harakmbut': 1.4614560261099574,\n",
       "  'aguarana wampis': 1.1096915118041943},\n",
       " 'Millcayac': {'Mapudungun': 1.3168923690360472,\n",
       "  'Quechua Ancash': 0.45325640143300594,\n",
       "  'Quechua de Cajamarca': 0.45325640143300594,\n",
       "  'Mochica': 1.3226439126144203,\n",
       "  'Millcayac': 0.0,\n",
       "  'Allentiac': 0.0,\n",
       "  'Pilagá': 1.8464890030659036,\n",
       "  'Wichí': 1.3040607462285985,\n",
       "  'Quechua de Yauyos Sur': 0.45325640143300594,\n",
       "  'Harakmbut': 1.4522227642574175,\n",
       "  'aguarana wampis': 0.08240593212015912},\n",
       " 'Allentiac': {'Mapudungun': 1.3168923690360472,\n",
       "  'Quechua Ancash': 0.45325640143300594,\n",
       "  'Quechua de Cajamarca': 0.45325640143300594,\n",
       "  'Mochica': 1.3226439126144203,\n",
       "  'Millcayac': 0.0,\n",
       "  'Allentiac': 0.0,\n",
       "  'Pilagá': 1.8464890030659036,\n",
       "  'Wichí': 1.3040607462285985,\n",
       "  'Quechua de Yauyos Sur': 0.45325640143300594,\n",
       "  'Harakmbut': 1.4522227642574175,\n",
       "  'aguarana wampis': 0.08240593212015912},\n",
       " 'Pilagá': {'Mapudungun': 0.6850721351968863,\n",
       "  'Quechua Ancash': 1.4216016951278718,\n",
       "  'Quechua de Cajamarca': 1.4216016951278718,\n",
       "  'Mochica': 1.178651532661095,\n",
       "  'Millcayac': 1.8464890030659036,\n",
       "  'Allentiac': 1.8464890030659036,\n",
       "  'Pilagá': 0.0,\n",
       "  'Wichí': 0.45977875867545226,\n",
       "  'Quechua de Yauyos Sur': 1.4216016951278718,\n",
       "  'Harakmbut': 0.20907348934400116,\n",
       "  'aguarana wampis': 1.7962986071875346},\n",
       " 'Wichí': {'Mapudungun': 1.6038749336110738,\n",
       "  'Quechua Ancash': 1.7844045610653032,\n",
       "  'Quechua de Cajamarca': 1.7844045610653032,\n",
       "  'Mochica': 1.04264773803119,\n",
       "  'Millcayac': 1.3040607462285985,\n",
       "  'Allentiac': 1.3040607462285985,\n",
       "  'Pilagá': 0.45977875867545226,\n",
       "  'Wichí': 0.0,\n",
       "  'Quechua de Yauyos Sur': 1.7844045610653032,\n",
       "  'Harakmbut': 0.25456339411547013,\n",
       "  'aguarana wampis': 0.9855245138764972},\n",
       " 'Quechua de Yauyos Sur': {'Mapudungun': 0.3791119725783013,\n",
       "  'Quechua Ancash': 0.0,\n",
       "  'Quechua de Cajamarca': 0.0,\n",
       "  'Mochica': 1.5689463226328801,\n",
       "  'Millcayac': 0.45325640143300594,\n",
       "  'Allentiac': 0.45325640143300594,\n",
       "  'Pilagá': 1.4216016951278718,\n",
       "  'Wichí': 1.7844045610653032,\n",
       "  'Quechua de Yauyos Sur': 0.0,\n",
       "  'Harakmbut': 1.3995117439008495,\n",
       "  'aguarana wampis': 0.831153770069728},\n",
       " 'Harakmbut': {'Mapudungun': 1.0291704465201388,\n",
       "  'Quechua Ancash': 1.3995117439008495,\n",
       "  'Quechua de Cajamarca': 1.3995117439008495,\n",
       "  'Mochica': 1.4614560261099574,\n",
       "  'Millcayac': 1.4522227642574175,\n",
       "  'Allentiac': 1.4522227642574175,\n",
       "  'Pilagá': 0.20907348934400116,\n",
       "  'Wichí': 0.25456339411547013,\n",
       "  'Quechua de Yauyos Sur': 1.3995117439008495,\n",
       "  'Harakmbut': 0.0,\n",
       "  'aguarana wampis': 1.3426687075711363},\n",
       " 'aguarana wampis': {'Mapudungun': 1.6678097540693155,\n",
       "  'Quechua Ancash': 0.831153770069728,\n",
       "  'Quechua de Cajamarca': 0.831153770069728,\n",
       "  'Mochica': 1.1096915118041943,\n",
       "  'Millcayac': 0.08240593212015912,\n",
       "  'Allentiac': 0.08240593212015912,\n",
       "  'Pilagá': 1.7962986071875346,\n",
       "  'Wichí': 0.9855245138764972,\n",
       "  'Quechua de Yauyos Sur': 0.831153770069728,\n",
       "  'Harakmbut': 1.3426687075711363,\n",
       "  'aguarana wampis': 0.0}}"
      ]
     },
     "execution_count": 58,
     "metadata": {},
     "output_type": "execute_result"
    }
   ],
   "source": [
    "D_distancias"
   ]
  },
  {
   "cell_type": "code",
   "execution_count": 59,
   "metadata": {},
   "outputs": [],
   "source": [
    "## construyamos un heatmap :) https://seaborn.pydata.org/generated/seaborn.heatmap.html\n",
    "\n",
    "import seaborn as sns\n",
    "import matplotlib.pyplot as plt\n",
    "\n",
    "def mapa_calor(D,num_rasgos,estandarizar,distancia):\n",
    "    \n",
    "    ## D es el diccionario que entrega la función read_lenguas_andinas\n",
    "    D_distancias = diccionario_distancias(D,num_rasgos,estandarizar,distancia)\n",
    "\n",
    "    plt.figure(figsize=(10,10))\n",
    "    cg=sns.clustermap(D_distancias,cmap='OrRd',linewidth=1)\n",
    "    plt.setp(cg.ax_heatmap.yaxis.get_majorticklabels(), rotation=0)\n",
    "    plt.rcParams.update({'font.size': 15})\n",
    "    plt.savefig('heatmap_'+str(num_rasgos)+str(estandarizar)+distancia+'.pdf', format='pdf', transparent=True, bbox_inches='tight',dpi=800)"
   ]
  },
  {
   "cell_type": "code",
   "execution_count": 60,
   "metadata": {},
   "outputs": [
    {
     "name": "stderr",
     "output_type": "stream",
     "text": [
      "/home/ec2-user/anaconda3/envs/python3/lib/python3.6/site-packages/seaborn/matrix.py:595: ClusterWarning: scipy.cluster: The symmetric non-negative hollow observation matrix looks suspiciously like an uncondensed distance matrix\n",
      "  metric=self.metric)\n"
     ]
    },
    {
     "data": {
      "text/plain": [
       "<Figure size 720x720 with 0 Axes>"
      ]
     },
     "metadata": {},
     "output_type": "display_data"
    },
    {
     "data": {
      "image/png": "[encoded data removed]",
      "text/plain": [
       "<Figure size 720x720 with 4 Axes>"
      ]
     },
     "metadata": {
      "needs_background": "light"
     },
     "output_type": "display_data"
    }
   ],
   "source": [
    "mapa_calor(dom_estructura_argumental,6,True,'euclidean')"
   ]
  },
  {
   "cell_type": "code",
   "execution_count": null,
   "metadata": {},
   "outputs": [],
   "source": []
  },
  {
   "cell_type": "code",
   "execution_count": null,
   "metadata": {},
   "outputs": [],
   "source": []
  },
  {
   "cell_type": "code",
   "execution_count": null,
   "metadata": {},
   "outputs": [],
   "source": []
  }
 ],
 "metadata": {
  "kernelspec": {
   "display_name": "conda_python3",
   "language": "python",
   "name": "conda_python3"
  },
  "language_info": {
   "codemirror_mode": {
    "name": "ipython",
    "version": 3
   },
   "file_extension": ".py",
   "mimetype": "text/x-python",
   "name": "python",
   "nbconvert_exporter": "python",
   "pygments_lexer": "ipython3",
   "version": "3.6.10"
  }
 },
 "nbformat": 4,
 "nbformat_minor": 4
}
